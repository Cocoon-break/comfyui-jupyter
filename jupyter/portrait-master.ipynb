{
 "cells": [
  {
   "cell_type": "markdown",
   "metadata": {},
   "source": [
    "# comfyui仓库安装\n",
    "> 工程仓库clone以及安装所需要的节点"
   ]
  },
  {
   "cell_type": "code",
   "execution_count": null,
   "metadata": {},
   "outputs": [],
   "source": [
    "update = False\n",
    "\n",
    "from os import path\n",
    "\n",
    "%cd /kaggle/working\n",
    "!git clone https://github.com/comfyanonymous/ComfyUI.git\n",
    "%cd ComfyUI\n",
    "if update:\n",
    "    get_ipython().system('git pull')\n",
    "!pip install -r requirements.txt\n",
    "\n",
    "models_path = '/kaggle/working/ComfyUI/models'\n",
    "\n",
    "!mamba install openssh -y\n",
    "\n",
    "custom_nodes = '/kaggle/working/ComfyUI/custom_nodes'\n",
    "# install portrait-master node \n",
    "%cd $custom_nodes\n",
    "!git clone https://github.com/ZHO-ZHO-ZHO/comfyui-portrait-master-zh-cn.git\n",
    "\n",
    "# Install the node manager\n",
    "update_manager = False\n",
    "%cd $custom_nodes\n",
    "!git clone https://github.com/ltdrdata/ComfyUI-Manager.git\n",
    "%cd ComfyUI-Manager\n",
    "if update_manager:\n",
    "    get_ipython().system('git pull')\n",
    "!pip install -r requirements.txt"
   ]
  },
  {
   "cell_type": "markdown",
   "metadata": {},
   "source": [
    "# 模型下载\n",
    "\n",
    "从hungingface下载模型,记得将以下的hf_*** token换成你自己的"
   ]
  },
  {
   "cell_type": "code",
   "execution_count": null,
   "metadata": {},
   "outputs": [],
   "source": [
    "\n",
    "# 从hungingface下载模型, 下载方式参考文档https://padeoe.com/huggingface-large-models-downloader/\n",
    "\n",
    "repo = 'https://huggingface.co/stabilityai/stable-diffusion-3-medium/resolve/main%s?download=true'\n",
    "\n",
    "model_dict = {'/sd3_medium.safetensors': './checkpoints/sd3_medium.safetensors',\n",
    "'/text_encoders/clip_g.safetensors':'./clip/clip_g.safetensors',\n",
    "'/text_encoders/clip_l.safetensors':'./clip/clip_l.safetensors',\n",
    "'/text_encoders/t5xxl_fp16.safetensors':'./clip/t5xxl_fp16.safetensors',\n",
    "}\n",
    "\n",
    "%cd $models_path\n",
    "\n",
    "for k,v in model_dict.items():\n",
    "        cmd = f'wget --header \"Authorization: Bearer hf_***\" {repo % k} -O {v}'\n",
    "        print(cmd)\n",
    "        get_ipython().system(cmd)\n"
   ]
  },
  {
   "cell_type": "markdown",
   "metadata": {},
   "source": [
    "# 启动服务\n",
    "通过浏览器打开带有.pinggy.link 后缀的链接"
   ]
  },
  {
   "cell_type": "code",
   "execution_count": null,
   "metadata": {},
   "outputs": [],
   "source": [
    "# Starting the Web UI with pinggy\n",
    "\n",
    "from multiprocessing import Process\n",
    "import sys\n",
    "import time\n",
    "\n",
    "!touch log.txt\n",
    "open('log.txt', 'w').close()\n",
    "\n",
    "def run_app():\n",
    "    cmd = f\"python /kaggle/working/ComfyUI/main.py & ssh -o StrictHostKeyChecking=no -p 80 -R0:localhost:8188 a.pinggy.io > log.txt\"\n",
    "    get_ipython().system(cmd)\n",
    "    \n",
    "def print_url():\n",
    "    print(\"waiting for output\")\n",
    "    time.sleep(2)\n",
    "    sys.stdout.flush()\n",
    "    \n",
    "    found = False\n",
    "    with open('log.txt', 'r') as file:\n",
    "        end_word = '.pinggy.link'\n",
    "        for line in file:\n",
    "            start_index = line.find(\"http:\")\n",
    "            if start_index != -1:\n",
    "                end_index = line.find(end_word, start_index)\n",
    "                if end_index != -1:\n",
    "                    print(\"😁 😁 😁\")\n",
    "                    print(\"URL: \" + line[start_index:end_index + len(end_word)])\n",
    "                    print(\"😁 😁 😁\")\n",
    "                    found = True\n",
    "    if not found:\n",
    "        print_url()\n",
    "    else:\n",
    "        with open('log.txt', 'r') as file:\n",
    "            for line in file:\n",
    "                print(line)\n",
    "    \n",
    "p_app = Process(target=run_app)\n",
    "p_url = Process(target=print_url)\n",
    "p_app.start()\n",
    "p_url.start()\n",
    "p_app.join()\n",
    "p_url.join()"
   ]
  },
  {
   "cell_type": "markdown",
   "metadata": {},
   "source": [
    "# 工作流下载\n",
    "\n",
    "工作流json文件，从[ComfyUI-Workflows-ZHO](https://github.com/ZHO-ZHO-ZHO/ComfyUI-Workflows-ZHO) 仓库中获取SD3 Medium + 肖像大师的json文件"
   ]
  }
 ],
 "metadata": {
  "kernelspec": {
   "display_name": ".venv",
   "language": "python",
   "name": "python3"
  },
  "language_info": {
   "codemirror_mode": {
    "name": "ipython",
    "version": 3
   },
   "file_extension": ".py",
   "mimetype": "text/x-python",
   "name": "python",
   "nbconvert_exporter": "python",
   "pygments_lexer": "ipython3",
   "version": "3.12.4"
  }
 },
 "nbformat": 4,
 "nbformat_minor": 2
}
