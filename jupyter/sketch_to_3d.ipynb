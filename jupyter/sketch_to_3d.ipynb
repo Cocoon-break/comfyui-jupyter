{
 "cells": [
  {
   "cell_type": "markdown",
   "metadata": {},
   "source": [
    "# comfyui 工程及插件安装\n"
   ]
  },
  {
   "cell_type": "code",
   "execution_count": null,
   "metadata": {},
   "outputs": [],
   "source": [
    "# install comfyui \n",
    "%cd /kaggle/working\n",
    "!git clone https://github.com/comfyanonymous/ComfyUI.git\n",
    "%cd ComfyUI\n",
    "!pip install -r requirements.txt\n",
    "\n",
    "comfyui = '/kaggle/working/ComfyUI'\n",
    "model_path = '/kaggle/working/ComfyUI/models'\n",
    "temp = '/kaggle/temp'\n",
    "!mkdir -p $temp\n",
    "!mv $model_path $temp\n",
    "temp_models = '/kaggle/temp/models'\n",
    "get_ipython().system(f'ln -s {temp_models} {model_path}')\n",
    "\n",
    "\n",
    "# install custom nodes\n",
    "custom_nodes = '/kaggle/working/ComfyUI/custom_nodes'\n",
    "%cd $custom_nodes\n",
    "!git clone https://github.com/ltdrdata/ComfyUI-Manager.git\n",
    "%cd ComfyUI-Manager\n",
    "!pip install -r requirements.txt\n",
    "\n",
    "%cd $custom_nodes\n",
    "!git clone https://github.com/ZHO-ZHO-ZHO/ComfyUI-Flowty-TripoSR-ZHO.git\n",
    "%cd ComfyUI-Flowty-TripoSR-ZHO\n",
    "#  install torchmcubes \n",
    "!pip install git+https://github.com/tatsy/torchmcubes.git@3aef8afa5f21b113afc4f4ea148baee850cbd472\n",
    "!pip install -r requirements.txt\n",
    "\n",
    "%cd $custom_nodes\n",
    "!git clone https://github.com/AlekPet/ComfyUI_Custom_Nodes_AlekPet.git\n",
    "\n",
    "# install openssh\n",
    "!mamba install openssh -y\n",
    "\n",
    "!echo 'env is ready'"
   ]
  },
  {
   "cell_type": "code",
   "execution_count": null,
   "metadata": {},
   "outputs": [],
   "source": [
    "# install RMBG & models\n",
    "%cd $custom_nodes\n",
    "!git clone https://github.com/ZHO-ZHO-ZHO/ComfyUI-BRIA_AI-RMBG.git\n",
    "!cd ComfyUI-BRIA_AI-RMBG\n",
    "%rm -rf RMBG-1.4\n",
    "!git clone https://huggingface.co/briaai/RMBG-1.4"
   ]
  },
  {
   "cell_type": "markdown",
   "metadata": {},
   "source": [
    "# 模型下载\n",
    "\n",
    "从hungingface下载模型,记得将以下的hf_*** token换成你自己的"
   ]
  },
  {
   "cell_type": "code",
   "execution_count": null,
   "metadata": {},
   "outputs": [],
   "source": [
    "%cd $temp_models\n",
    "# 从hungingface下载模型, 下载方式参考文档https://padeoe.com/huggingface-large-models-downloader/\n",
    "!mkdir -p checkpoints\n",
    "# download Playground v2.5\n",
    "repo = ' https://huggingface.co/playgroundai/playground-v2.5-1024px-aesthetic/resolve/main%s?download=true'\n",
    "model_dict = {\n",
    "    '/playground-v2.5-1024px-aesthetic.fp16.safetensors': './checkpoints/playground-v25.safetensors',\n",
    "}\n",
    "\n",
    "for k,v in model_dict.items():\n",
    "        cmd = f'wget --header \"Authorization: Bearer hf_***\" {repo % k} -O {v}'\n",
    "        print(cmd)\n",
    "        get_ipython().system(cmd)"
   ]
  },
  {
   "cell_type": "code",
   "execution_count": null,
   "metadata": {},
   "outputs": [],
   "source": [
    "%cd $temp_models\n",
    "# 从hungingface下载模型, 下载方式参考文档https://padeoe.com/huggingface-large-models-downloader/\n",
    "!mkdir -p controlnet\n",
    "# download controlnet\n",
    "repo = ' https://huggingface.co/diffusers/controlnet-canny-sdxl-1.0/resolve/main%s?download=true'\n",
    "model_dict = {\n",
    "    '/diffusion_pytorch_model.fp16.safetensors': './controlnet/controlnet-canny-sdxl-1.0.safetensors',\n",
    "}\n",
    "\n",
    "for k,v in model_dict.items():\n",
    "        cmd = f'wget --header \"Authorization: Bearer hf_***\" {repo % k} -O {v}'\n",
    "        print(cmd)\n",
    "        get_ipython().system(cmd)"
   ]
  },
  {
   "cell_type": "markdown",
   "metadata": {},
   "source": [
    "# 启动服务\n",
    "\n",
    "找到输出日志中带有.pinggy.link 后缀的链接，通过浏览器打开"
   ]
  },
  {
   "cell_type": "code",
   "execution_count": null,
   "metadata": {},
   "outputs": [],
   "source": [
    "# Starting the Web UI with pinggy\n",
    "\n",
    "from multiprocessing import Process\n",
    "import sys\n",
    "import time\n",
    "\n",
    "!touch log.txt\n",
    "open('log.txt', 'w').close()\n",
    "\n",
    "def run_app():\n",
    "    cmd = f\"python /kaggle/working/ComfyUI/main.py & ssh -o StrictHostKeyChecking=no -p 80 -R0:localhost:8188 a.pinggy.io > log.txt\"\n",
    "    get_ipython().system(cmd)\n",
    "    \n",
    "def print_url():\n",
    "    print(\"waiting for output\")\n",
    "    time.sleep(2)\n",
    "    sys.stdout.flush()\n",
    "    \n",
    "    found = False\n",
    "    with open('log.txt', 'r') as file:\n",
    "        end_word = '.pinggy.link'\n",
    "        for line in file:\n",
    "            start_index = line.find(\"http:\")\n",
    "            if start_index != -1:\n",
    "                end_index = line.find(end_word, start_index)\n",
    "                if end_index != -1:\n",
    "                    print(\"😁 😁 😁\")\n",
    "                    print(\"URL: \" + line[start_index:end_index + len(end_word)])\n",
    "                    print(\"😁 😁 😁\")\n",
    "                    found = True\n",
    "    if not found:\n",
    "        print_url()\n",
    "    else:\n",
    "        with open('log.txt', 'r') as file:\n",
    "            for line in file:\n",
    "                print(line)\n",
    "    \n",
    "p_app = Process(target=run_app)\n",
    "p_url = Process(target=print_url)\n",
    "p_app.start()\n",
    "p_url.start()\n",
    "p_app.join()\n",
    "p_url.join()"
   ]
  },
  {
   "cell_type": "markdown",
   "metadata": {},
   "source": [
    "# 工作流下载\n",
    "\n",
    "工作流json文件，从[ComfyUI-Workflows-ZHO](https://github.com/ZHO-ZHO-ZHO/ComfyUI-Workflows-ZHO) 仓库中获取Sketch to 3D【Zho】的json文件"
   ]
  }
 ],
 "metadata": {
  "kernelspec": {
   "display_name": ".venv",
   "language": "python",
   "name": "python3"
  },
  "language_info": {
   "codemirror_mode": {
    "name": "ipython",
    "version": 3
   },
   "file_extension": ".py",
   "mimetype": "text/x-python",
   "name": "python",
   "nbconvert_exporter": "python",
   "pygments_lexer": "ipython3",
   "version": "3.12.7"
  }
 },
 "nbformat": 4,
 "nbformat_minor": 2
}
